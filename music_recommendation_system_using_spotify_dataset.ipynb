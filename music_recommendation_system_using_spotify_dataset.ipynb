{
  "cells": [
    {
      "cell_type": "code",
      "execution_count": 23,
      "metadata": {
        "colab": {
          "base_uri": "https://localhost:8080/"
        },
        "id": "IyqXCylsJIyx",
        "outputId": "68046cc4-b028-4b4f-f5e1-32fcbaf12a26"
      },
      "outputs": [
        {
          "output_type": "stream",
          "name": "stdout",
          "text": [
            "Looking in indexes: https://pypi.org/simple, https://us-python.pkg.dev/colab-wheels/public/simple/\n",
            "Requirement already satisfied: prompt-toolkit in /usr/local/lib/python3.8/dist-packages (3.0.36)\n",
            "Requirement already satisfied: wcwidth in /usr/local/lib/python3.8/dist-packages (from prompt-toolkit) (0.2.5)\n"
          ]
        }
      ],
      "source": [
        "#pip install notebook\n",
        "!pip install --upgrade prompt-toolkit\n"
      ]
    },
    {
      "cell_type": "code",
      "execution_count": 24,
      "metadata": {
        "id": "xSshsxdfJIyy"
      },
      "outputs": [],
      "source": [
        "import seaborn as sns\n",
        "import plotly.express as px \n",
        "import matplotlib.pyplot as plt\n",
        "%matplotlib inline\n",
        "\n",
        "from sklearn.cluster import KMeans\n",
        "from sklearn.preprocessing import StandardScaler\n",
        "from sklearn.pipeline import Pipeline\n",
        "from sklearn.manifold import TSNE\n",
        "from sklearn.decomposition import PCA\n",
        "from sklearn.metrics import euclidean_distances\n",
        "from scipy.spatial.distance import cdist\n",
        "\n",
        "import warnings\n",
        "warnings.filterwarnings(\"ignore\")"
      ]
    },
    {
      "cell_type": "code",
      "execution_count": 25,
      "metadata": {
        "id": "EsbHmuhZJIyy"
      },
      "outputs": [],
      "source": [
        "import pandas as pd\n",
        "import numpy as np\n",
        "import matplotlib.pyplot as plt"
      ]
    },
    {
      "cell_type": "code",
      "execution_count": 26,
      "metadata": {
        "id": "VcFEN86PJIyz"
      },
      "outputs": [],
      "source": [
        "import os"
      ]
    },
    {
      "cell_type": "code",
      "execution_count": 27,
      "metadata": {
        "colab": {
          "base_uri": "https://localhost:8080/",
          "height": 35
        },
        "id": "5Pp8808cJIyz",
        "outputId": "a1a734d5-e775-42c0-d61b-d50df7c8761e"
      },
      "outputs": [
        {
          "output_type": "execute_result",
          "data": {
            "text/plain": [
              "'/content'"
            ],
            "application/vnd.google.colaboratory.intrinsic+json": {
              "type": "string"
            }
          },
          "metadata": {},
          "execution_count": 27
        }
      ],
      "source": [
        "os.getcwd()"
      ]
    },
    {
      "cell_type": "code",
      "execution_count": 28,
      "metadata": {
        "id": "b8NGO708JIyz"
      },
      "outputs": [],
      "source": [
        "data = pd.read_csv(\"/content/data.csv\")\n",
        "genre_data = pd.read_csv('/content/data_by_genres.csv')\n",
        "year_data = pd.read_csv('/content/data_by_year.csv')"
      ]
    },
    {
      "cell_type": "code",
      "source": [
        "\n"
      ],
      "metadata": {
        "id": "q7EbvI-WMkCo"
      },
      "execution_count": 28,
      "outputs": []
    },
    {
      "cell_type": "code",
      "execution_count": 29,
      "metadata": {
        "colab": {
          "base_uri": "https://localhost:8080/"
        },
        "id": "MQvC9qzCJIyz",
        "outputId": "f69aa093-ceff-4524-ff60-48c49c3351c9"
      },
      "outputs": [
        {
          "output_type": "stream",
          "name": "stdout",
          "text": [
            "<class 'pandas.core.frame.DataFrame'>\n",
            "RangeIndex: 170653 entries, 0 to 170652\n",
            "Data columns (total 19 columns):\n",
            " #   Column            Non-Null Count   Dtype  \n",
            "---  ------            --------------   -----  \n",
            " 0   valence           170653 non-null  float64\n",
            " 1   year              170653 non-null  int64  \n",
            " 2   acousticness      170653 non-null  float64\n",
            " 3   artists           170653 non-null  object \n",
            " 4   danceability      170653 non-null  float64\n",
            " 5   duration_ms       170653 non-null  int64  \n",
            " 6   energy            170653 non-null  float64\n",
            " 7   explicit          170653 non-null  int64  \n",
            " 8   id                170653 non-null  object \n",
            " 9   instrumentalness  170653 non-null  float64\n",
            " 10  key               170653 non-null  int64  \n",
            " 11  liveness          170653 non-null  float64\n",
            " 12  loudness          170653 non-null  float64\n",
            " 13  mode              170653 non-null  int64  \n",
            " 14  name              170653 non-null  object \n",
            " 15  popularity        170653 non-null  int64  \n",
            " 16  release_date      170653 non-null  object \n",
            " 17  speechiness       170653 non-null  float64\n",
            " 18  tempo             170653 non-null  float64\n",
            "dtypes: float64(9), int64(6), object(4)\n",
            "memory usage: 24.7+ MB\n",
            "None\n"
          ]
        }
      ],
      "source": [
        "print(data.info())"
      ]
    },
    {
      "cell_type": "code",
      "execution_count": 30,
      "metadata": {
        "id": "cqaaXsyCJIyz",
        "outputId": "9f4df79f-3fe9-4711-8a3f-888e2ebfb30a",
        "colab": {
          "base_uri": "https://localhost:8080/"
        }
      },
      "outputs": [
        {
          "output_type": "stream",
          "name": "stdout",
          "text": [
            "<class 'pandas.core.frame.DataFrame'>\n",
            "RangeIndex: 2973 entries, 0 to 2972\n",
            "Data columns (total 14 columns):\n",
            " #   Column            Non-Null Count  Dtype  \n",
            "---  ------            --------------  -----  \n",
            " 0   mode              2973 non-null   int64  \n",
            " 1   genres            2973 non-null   object \n",
            " 2   acousticness      2973 non-null   float64\n",
            " 3   danceability      2973 non-null   float64\n",
            " 4   duration_ms       2973 non-null   float64\n",
            " 5   energy            2973 non-null   float64\n",
            " 6   instrumentalness  2973 non-null   float64\n",
            " 7   liveness          2973 non-null   float64\n",
            " 8   loudness          2973 non-null   float64\n",
            " 9   speechiness       2973 non-null   float64\n",
            " 10  tempo             2973 non-null   float64\n",
            " 11  valence           2973 non-null   float64\n",
            " 12  popularity        2973 non-null   float64\n",
            " 13  key               2973 non-null   int64  \n",
            "dtypes: float64(11), int64(2), object(1)\n",
            "memory usage: 325.3+ KB\n",
            "None\n"
          ]
        }
      ],
      "source": [
        "print(genre_data.info())"
      ]
    },
    {
      "cell_type": "code",
      "execution_count": 31,
      "metadata": {
        "id": "HvWt004EJIy0",
        "outputId": "1fe5317b-ecda-44df-ee87-f39ff6b5e7a5",
        "colab": {
          "base_uri": "https://localhost:8080/"
        }
      },
      "outputs": [
        {
          "output_type": "stream",
          "name": "stdout",
          "text": [
            "<class 'pandas.core.frame.DataFrame'>\n",
            "RangeIndex: 100 entries, 0 to 99\n",
            "Data columns (total 14 columns):\n",
            " #   Column            Non-Null Count  Dtype  \n",
            "---  ------            --------------  -----  \n",
            " 0   mode              100 non-null    int64  \n",
            " 1   year              100 non-null    int64  \n",
            " 2   acousticness      100 non-null    float64\n",
            " 3   danceability      100 non-null    float64\n",
            " 4   duration_ms       100 non-null    float64\n",
            " 5   energy            100 non-null    float64\n",
            " 6   instrumentalness  100 non-null    float64\n",
            " 7   liveness          100 non-null    float64\n",
            " 8   loudness          100 non-null    float64\n",
            " 9   speechiness       100 non-null    float64\n",
            " 10  tempo             100 non-null    float64\n",
            " 11  valence           100 non-null    float64\n",
            " 12  popularity        100 non-null    float64\n",
            " 13  key               100 non-null    int64  \n",
            "dtypes: float64(11), int64(3)\n",
            "memory usage: 11.1 KB\n",
            "None\n"
          ]
        }
      ],
      "source": [
        "print(year_data.info())"
      ]
    },
    {
      "cell_type": "code",
      "execution_count": 31,
      "metadata": {
        "id": "cevoFbvvJIy0"
      },
      "outputs": [],
      "source": []
    },
    {
      "cell_type": "code",
      "execution_count": 32,
      "metadata": {
        "id": "qmu6uXOiJIy0",
        "outputId": "9aec2f5e-0035-420a-d6ef-47da8ea31692",
        "colab": {
          "base_uri": "https://localhost:8080/"
        }
      },
      "outputs": [
        {
          "output_type": "stream",
          "name": "stdout",
          "text": [
            "Looking in indexes: https://pypi.org/simple, https://us-python.pkg.dev/colab-wheels/public/simple/\n",
            "Requirement already satisfied: yellowbrick in /usr/local/lib/python3.8/dist-packages (1.5)\n",
            "Requirement already satisfied: numpy>=1.16.0 in /usr/local/lib/python3.8/dist-packages (from yellowbrick) (1.21.6)\n",
            "Requirement already satisfied: scikit-learn>=1.0.0 in /usr/local/lib/python3.8/dist-packages (from yellowbrick) (1.0.2)\n",
            "Requirement already satisfied: cycler>=0.10.0 in /usr/local/lib/python3.8/dist-packages (from yellowbrick) (0.11.0)\n",
            "Requirement already satisfied: scipy>=1.0.0 in /usr/local/lib/python3.8/dist-packages (from yellowbrick) (1.7.3)\n",
            "Requirement already satisfied: matplotlib!=3.0.0,>=2.0.2 in /usr/local/lib/python3.8/dist-packages (from yellowbrick) (3.2.2)\n",
            "Requirement already satisfied: pyparsing!=2.0.4,!=2.1.2,!=2.1.6,>=2.0.1 in /usr/local/lib/python3.8/dist-packages (from matplotlib!=3.0.0,>=2.0.2->yellowbrick) (3.0.9)\n",
            "Requirement already satisfied: kiwisolver>=1.0.1 in /usr/local/lib/python3.8/dist-packages (from matplotlib!=3.0.0,>=2.0.2->yellowbrick) (1.4.4)\n",
            "Requirement already satisfied: python-dateutil>=2.1 in /usr/local/lib/python3.8/dist-packages (from matplotlib!=3.0.0,>=2.0.2->yellowbrick) (2.8.2)\n",
            "Requirement already satisfied: threadpoolctl>=2.0.0 in /usr/local/lib/python3.8/dist-packages (from scikit-learn>=1.0.0->yellowbrick) (3.1.0)\n",
            "Requirement already satisfied: joblib>=0.11 in /usr/local/lib/python3.8/dist-packages (from scikit-learn>=1.0.0->yellowbrick) (1.2.0)\n",
            "Requirement already satisfied: six>=1.5 in /usr/local/lib/python3.8/dist-packages (from python-dateutil>=2.1->matplotlib!=3.0.0,>=2.0.2->yellowbrick) (1.15.0)\n"
          ]
        }
      ],
      "source": [
        "pip install yellowbrick"
      ]
    },
    {
      "cell_type": "code",
      "execution_count": 33,
      "metadata": {
        "id": "LT1dw3OVJIy0",
        "outputId": "3097e369-4df7-452e-ab38-4d88e613a004",
        "colab": {
          "base_uri": "https://localhost:8080/",
          "height": 1000
        }
      },
      "outputs": [
        {
          "output_type": "display_data",
          "data": {
            "text/plain": [
              "<Figure size 1440x1440 with 1 Axes>"
            ],
            "image/png": "[encoded data removed]"
          },
          "metadata": {}
        },
        {
          "output_type": "execute_result",
          "data": {
            "text/plain": [
              "<matplotlib.axes._subplots.AxesSubplot at 0x7fd20d68ebb0>"
            ]
          },
          "metadata": {},
          "execution_count": 33
        }
      ],
      "source": [
        "from yellowbrick.target import FeatureCorrelation\n",
        "\n",
        "feature_names = ['acousticness', 'danceability', 'energy', 'instrumentalness',\n",
        "       'liveness', 'loudness', 'speechiness', 'tempo', 'valence','duration_ms','explicit','key','mode','year']\n",
        "\n",
        "X, y = data[feature_names], data['popularity']\n",
        "\n",
        "# Create a list of the feature names\n",
        "features = np.array(feature_names)\n",
        "\n",
        "# Instantiate the visualizer\n",
        "visualizer = FeatureCorrelation(labels=features)\n",
        "\n",
        "plt.rcParams['figure.figsize']=(20,20)\n",
        "visualizer.fit(X, y)     # Fit the data to the visualizer\n",
        "visualizer.show()"
      ]
    },
    {
      "cell_type": "code",
      "execution_count": 34,
      "metadata": {
        "id": "4zDy2i8NJIy0"
      },
      "outputs": [],
      "source": [
        "import seaborn as sns"
      ]
    },
    {
      "cell_type": "markdown",
      "metadata": {
        "id": "GQMCT5Q_JIy0"
      },
      "source": [
        "# Music Over Time"
      ]
    },
    {
      "cell_type": "code",
      "execution_count": 35,
      "metadata": {
        "id": "RdGv1hOZJIy1",
        "outputId": "62a45a56-c61a-485d-cea4-caf0e9f9daf3",
        "colab": {
          "base_uri": "https://localhost:8080/",
          "height": 414
        }
      },
      "outputs": [
        {
          "output_type": "execute_result",
          "data": {
            "text/plain": [
              "<matplotlib.axes._subplots.AxesSubplot at 0x7fd20d915070>"
            ]
          },
          "metadata": {},
          "execution_count": 35
        },
        {
          "output_type": "display_data",
          "data": {
            "text/plain": [
              "<Figure size 792x432 with 1 Axes>"
            ],
            "image/png": "[encoded data removed]"
          },
          "metadata": {}
        }
      ],
      "source": [
        "def get_decade(year):\n",
        "    period_start = int(year/10) * 10\n",
        "    decade = '{}s'.format(period_start)\n",
        "    return decade\n",
        "\n",
        "data['decade'] = data['year'].apply(get_decade)\n",
        "\n",
        "sns.set(rc={'figure.figsize':(11 ,6)})\n",
        "sns.countplot(data['decade'])"
      ]
    },
    {
      "cell_type": "markdown",
      "metadata": {
        "id": "zoUheJ8bJIy1"
      },
      "source": [
        "# Characterstics of Different Genre"
      ]
    },
    {
      "cell_type": "code",
      "execution_count": 36,
      "metadata": {
        "id": "yR5y32qfJIy1",
        "outputId": "52fb4635-a51e-43ec-f5dc-6a0971f49f2c",
        "colab": {
          "base_uri": "https://localhost:8080/",
          "height": 542
        }
      },
      "outputs": [
        {
          "output_type": "display_data",
          "data": {
            "text/html": [
              "<html>\n",
              "<head><meta charset=\"utf-8\" /></head>\n",
              "<body>\n",
              "    <div>            <script src=\"https://cdnjs.cloudflare.com/ajax/libs/mathjax/2.7.5/MathJax.js?config=TeX-AMS-MML_SVG\"></script><script type=\"text/javascript\">if (window.MathJax) {MathJax.Hub.Config({SVG: {font: \"STIX-Web\"}});}</script>                <script type=\"text/javascript\">window.PlotlyConfig = {MathJaxConfig: 'local'};</script>\n",
              "        <script src=\"https://cdn.plot.ly/plotly-2.8.3.min.js\"></script>                <div id=\"96a88e30-3144-45eb-9b33-9f51133bfc76\" class=\"plotly-graph-div\" style=\"height:525px; width:100%;\"></div>            <script type=\"text/javascript\">                                    window.PLOTLYENV=window.PLOTLYENV || {};                                    if (document.getElementById(\"96a88e30-3144-45eb-9b33-9f51133bfc76\")) {                    Plotly.newPlot(                        \"96a88e30-3144-45eb-9b33-9f51133bfc76\",                        [{\"alignmentgroup\":\"True\",\"hovertemplate\":\"variable=valence<br>genres=%{x}<br>value=%{y}<extra></extra>\",\"legendgroup\":\"valence\",\"marker\":{\"color\":\"#636efa\",\"pattern\":{\"shape\":\"\"}},\"name\":\"valence\",\"offsetgroup\":\"valence\",\"orientation\":\"v\",\"showlegend\":true,\"textposition\":\"auto\",\"x\":[\"basshall\",\"south african house\",\"trap venezolano\",\"turkish edm\",\"alberta hip hop\",\"chinese electropop\",\"afroswing\",\"afro soul\",\"circuit\",\"guaracha\"],\"xaxis\":\"x\",\"y\":[0.5886666666666667,0.8343333333333334,0.706,0.364,0.937,0.199,0.676625,0.743,0.556,0.556],\"yaxis\":\"y\",\"type\":\"bar\"},{\"alignmentgroup\":\"True\",\"hovertemplate\":\"variable=energy<br>genres=%{x}<br>value=%{y}<extra></extra>\",\"legendgroup\":\"energy\",\"marker\":{\"color\":\"#EF553B\",\"pattern\":{\"shape\":\"\"}},\"name\":\"energy\",\"offsetgroup\":\"energy\",\"orientation\":\"v\",\"showlegend\":true,\"textposition\":\"auto\",\"x\":[\"basshall\",\"south african house\",\"trap venezolano\",\"turkish edm\",\"alberta hip hop\",\"chinese electropop\",\"afroswing\",\"afro soul\",\"circuit\",\"guaracha\"],\"xaxis\":\"x\",\"y\":[0.6301666666666668,0.5623333333333332,0.777,0.7190000000000001,0.685,0.787,0.5801875,0.873,0.972,0.972],\"yaxis\":\"y\",\"type\":\"bar\"},{\"alignmentgroup\":\"True\",\"hovertemplate\":\"variable=danceability<br>genres=%{x}<br>value=%{y}<extra></extra>\",\"legendgroup\":\"danceability\",\"marker\":{\"color\":\"#00cc96\",\"pattern\":{\"shape\":\"\"}},\"name\":\"danceability\",\"offsetgroup\":\"danceability\",\"orientation\":\"v\",\"showlegend\":true,\"textposition\":\"auto\",\"x\":[\"basshall\",\"south african house\",\"trap venezolano\",\"turkish edm\",\"alberta hip hop\",\"chinese electropop\",\"afroswing\",\"afro soul\",\"circuit\",\"guaracha\"],\"xaxis\":\"x\",\"y\":[0.8180000000000001,0.847,0.877,0.698,0.885,0.66,0.71175,0.7659999999999999,0.745,0.745],\"yaxis\":\"y\",\"type\":\"bar\"},{\"alignmentgroup\":\"True\",\"hovertemplate\":\"variable=acousticness<br>genres=%{x}<br>value=%{y}<extra></extra>\",\"legendgroup\":\"acousticness\",\"marker\":{\"color\":\"#ab63fa\",\"pattern\":{\"shape\":\"\"}},\"name\":\"acousticness\",\"offsetgroup\":\"acousticness\",\"orientation\":\"v\",\"showlegend\":true,\"textposition\":\"auto\",\"x\":[\"basshall\",\"south african house\",\"trap venezolano\",\"turkish edm\",\"alberta hip hop\",\"chinese electropop\",\"afroswing\",\"afro soul\",\"circuit\",\"guaracha\"],\"xaxis\":\"x\",\"y\":[0.2131666666666666,0.0438333333333333,0.0446,0.00829,0.33,0.00257,0.31845,0.00627,0.00903,0.00903],\"yaxis\":\"y\",\"type\":\"bar\"}],                        {\"template\":{\"data\":{\"bar\":[{\"error_x\":{\"color\":\"#2a3f5f\"},\"error_y\":{\"color\":\"#2a3f5f\"},\"marker\":{\"line\":{\"color\":\"#E5ECF6\",\"width\":0.5},\"pattern\":{\"fillmode\":\"overlay\",\"size\":10,\"solidity\":0.2}},\"type\":\"bar\"}],\"barpolar\":[{\"marker\":{\"line\":{\"color\":\"#E5ECF6\",\"width\":0.5},\"pattern\":{\"fillmode\":\"overlay\",\"size\":10,\"solidity\":0.2}},\"type\":\"barpolar\"}],\"carpet\":[{\"aaxis\":{\"endlinecolor\":\"#2a3f5f\",\"gridcolor\":\"white\",\"linecolor\":\"white\",\"minorgridcolor\":\"white\",\"startlinecolor\":\"#2a3f5f\"},\"baxis\":{\"endlinecolor\":\"#2a3f5f\",\"gridcolor\":\"white\",\"linecolor\":\"white\",\"minorgridcolor\":\"white\",\"startlinecolor\":\"#2a3f5f\"},\"type\":\"carpet\"}],\"choropleth\":[{\"colorbar\":{\"outlinewidth\":0,\"ticks\":\"\"},\"type\":\"choropleth\"}],\"contour\":[{\"colorbar\":{\"outlinewidth\":0,\"ticks\":\"\"},\"colorscale\":[[0.0,\"#0d0887\"],[0.1111111111111111,\"#46039f\"],[0.2222222222222222,\"#7201a8\"],[0.3333333333333333,\"#9c179e\"],[0.4444444444444444,\"#bd3786\"],[0.5555555555555556,\"#d8576b\"],[0.6666666666666666,\"#ed7953\"],[0.7777777777777778,\"#fb9f3a\"],[0.8888888888888888,\"#fdca26\"],[1.0,\"#f0f921\"]],\"type\":\"contour\"}],\"contourcarpet\":[{\"colorbar\":{\"outlinewidth\":0,\"ticks\":\"\"},\"type\":\"contourcarpet\"}],\"heatmap\":[{\"colorbar\":{\"outlinewidth\":0,\"ticks\":\"\"},\"colorscale\":[[0.0,\"#0d0887\"],[0.1111111111111111,\"#46039f\"],[0.2222222222222222,\"#7201a8\"],[0.3333333333333333,\"#9c179e\"],[0.4444444444444444,\"#bd3786\"],[0.5555555555555556,\"#d8576b\"],[0.6666666666666666,\"#ed7953\"],[0.7777777777777778,\"#fb9f3a\"],[0.8888888888888888,\"#fdca26\"],[1.0,\"#f0f921\"]],\"type\":\"heatmap\"}],\"heatmapgl\":[{\"colorbar\":{\"outlinewidth\":0,\"ticks\":\"\"},\"colorscale\":[[0.0,\"#0d0887\"],[0.1111111111111111,\"#46039f\"],[0.2222222222222222,\"#7201a8\"],[0.3333333333333333,\"#9c179e\"],[0.4444444444444444,\"#bd3786\"],[0.5555555555555556,\"#d8576b\"],[0.6666666666666666,\"#ed7953\"],[0.7777777777777778,\"#fb9f3a\"],[0.8888888888888888,\"#fdca26\"],[1.0,\"#f0f921\"]],\"type\":\"heatmapgl\"}],\"histogram\":[{\"marker\":{\"pattern\":{\"fillmode\":\"overlay\",\"size\":10,\"solidity\":0.2}},\"type\":\"histogram\"}],\"histogram2d\":[{\"colorbar\":{\"outlinewidth\":0,\"ticks\":\"\"},\"colorscale\":[[0.0,\"#0d0887\"],[0.1111111111111111,\"#46039f\"],[0.2222222222222222,\"#7201a8\"],[0.3333333333333333,\"#9c179e\"],[0.4444444444444444,\"#bd3786\"],[0.5555555555555556,\"#d8576b\"],[0.6666666666666666,\"#ed7953\"],[0.7777777777777778,\"#fb9f3a\"],[0.8888888888888888,\"#fdca26\"],[1.0,\"#f0f921\"]],\"type\":\"histogram2d\"}],\"histogram2dcontour\":[{\"colorbar\":{\"outlinewidth\":0,\"ticks\":\"\"},\"colorscale\":[[0.0,\"#0d0887\"],[0.1111111111111111,\"#46039f\"],[0.2222222222222222,\"#7201a8\"],[0.3333333333333333,\"#9c179e\"],[0.4444444444444444,\"#bd3786\"],[0.5555555555555556,\"#d8576b\"],[0.6666666666666666,\"#ed7953\"],[0.7777777777777778,\"#fb9f3a\"],[0.8888888888888888,\"#fdca26\"],[1.0,\"#f0f921\"]],\"type\":\"histogram2dcontour\"}],\"mesh3d\":[{\"colorbar\":{\"outlinewidth\":0,\"ticks\":\"\"},\"type\":\"mesh3d\"}],\"parcoords\":[{\"line\":{\"colorbar\":{\"outlinewidth\":0,\"ticks\":\"\"}},\"type\":\"parcoords\"}],\"pie\":[{\"automargin\":true,\"type\":\"pie\"}],\"scatter\":[{\"marker\":{\"colorbar\":{\"outlinewidth\":0,\"ticks\":\"\"}},\"type\":\"scatter\"}],\"scatter3d\":[{\"line\":{\"colorbar\":{\"outlinewidth\":0,\"ticks\":\"\"}},\"marker\":{\"colorbar\":{\"outlinewidth\":0,\"ticks\":\"\"}},\"type\":\"scatter3d\"}],\"scattercarpet\":[{\"marker\":{\"colorbar\":{\"outlinewidth\":0,\"ticks\":\"\"}},\"type\":\"scattercarpet\"}],\"scattergeo\":[{\"marker\":{\"colorbar\":{\"outlinewidth\":0,\"ticks\":\"\"}},\"type\":\"scattergeo\"}],\"scattergl\":[{\"marker\":{\"colorbar\":{\"outlinewidth\":0,\"ticks\":\"\"}},\"type\":\"scattergl\"}],\"scattermapbox\":[{\"marker\":{\"colorbar\":{\"outlinewidth\":0,\"ticks\":\"\"}},\"type\":\"scattermapbox\"}],\"scatterpolar\":[{\"marker\":{\"colorbar\":{\"outlinewidth\":0,\"ticks\":\"\"}},\"type\":\"scatterpolar\"}],\"scatterpolargl\":[{\"marker\":{\"colorbar\":{\"outlinewidth\":0,\"ticks\":\"\"}},\"type\":\"scatterpolargl\"}],\"scatterternary\":[{\"marker\":{\"colorbar\":{\"outlinewidth\":0,\"ticks\":\"\"}},\"type\":\"scatterternary\"}],\"surface\":[{\"colorbar\":{\"outlinewidth\":0,\"ticks\":\"\"},\"colorscale\":[[0.0,\"#0d0887\"],[0.1111111111111111,\"#46039f\"],[0.2222222222222222,\"#7201a8\"],[0.3333333333333333,\"#9c179e\"],[0.4444444444444444,\"#bd3786\"],[0.5555555555555556,\"#d8576b\"],[0.6666666666666666,\"#ed7953\"],[0.7777777777777778,\"#fb9f3a\"],[0.8888888888888888,\"#fdca26\"],[1.0,\"#f0f921\"]],\"type\":\"surface\"}],\"table\":[{\"cells\":{\"fill\":{\"color\":\"#EBF0F8\"},\"line\":{\"color\":\"white\"}},\"header\":{\"fill\":{\"color\":\"#C8D4E3\"},\"line\":{\"color\":\"white\"}},\"type\":\"table\"}]},\"layout\":{\"annotationdefaults\":{\"arrowcolor\":\"#2a3f5f\",\"arrowhead\":0,\"arrowwidth\":1},\"autotypenumbers\":\"strict\",\"coloraxis\":{\"colorbar\":{\"outlinewidth\":0,\"ticks\":\"\"}},\"colorscale\":{\"diverging\":[[0,\"#8e0152\"],[0.1,\"#c51b7d\"],[0.2,\"#de77ae\"],[0.3,\"#f1b6da\"],[0.4,\"#fde0ef\"],[0.5,\"#f7f7f7\"],[0.6,\"#e6f5d0\"],[0.7,\"#b8e186\"],[0.8,\"#7fbc41\"],[0.9,\"#4d9221\"],[1,\"#276419\"]],\"sequential\":[[0.0,\"#0d0887\"],[0.1111111111111111,\"#46039f\"],[0.2222222222222222,\"#7201a8\"],[0.3333333333333333,\"#9c179e\"],[0.4444444444444444,\"#bd3786\"],[0.5555555555555556,\"#d8576b\"],[0.6666666666666666,\"#ed7953\"],[0.7777777777777778,\"#fb9f3a\"],[0.8888888888888888,\"#fdca26\"],[1.0,\"#f0f921\"]],\"sequentialminus\":[[0.0,\"#0d0887\"],[0.1111111111111111,\"#46039f\"],[0.2222222222222222,\"#7201a8\"],[0.3333333333333333,\"#9c179e\"],[0.4444444444444444,\"#bd3786\"],[0.5555555555555556,\"#d8576b\"],[0.6666666666666666,\"#ed7953\"],[0.7777777777777778,\"#fb9f3a\"],[0.8888888888888888,\"#fdca26\"],[1.0,\"#f0f921\"]]},\"colorway\":[\"#636efa\",\"#EF553B\",\"#00cc96\",\"#ab63fa\",\"#FFA15A\",\"#19d3f3\",\"#FF6692\",\"#B6E880\",\"#FF97FF\",\"#FECB52\"],\"font\":{\"color\":\"#2a3f5f\"},\"geo\":{\"bgcolor\":\"white\",\"lakecolor\":\"white\",\"landcolor\":\"#E5ECF6\",\"showlakes\":true,\"showland\":true,\"subunitcolor\":\"white\"},\"hoverlabel\":{\"align\":\"left\"},\"hovermode\":\"closest\",\"mapbox\":{\"style\":\"light\"},\"paper_bgcolor\":\"white\",\"plot_bgcolor\":\"#E5ECF6\",\"polar\":{\"angularaxis\":{\"gridcolor\":\"white\",\"linecolor\":\"white\",\"ticks\":\"\"},\"bgcolor\":\"#E5ECF6\",\"radialaxis\":{\"gridcolor\":\"white\",\"linecolor\":\"white\",\"ticks\":\"\"}},\"scene\":{\"xaxis\":{\"backgroundcolor\":\"#E5ECF6\",\"gridcolor\":\"white\",\"gridwidth\":2,\"linecolor\":\"white\",\"showbackground\":true,\"ticks\":\"\",\"zerolinecolor\":\"white\"},\"yaxis\":{\"backgroundcolor\":\"#E5ECF6\",\"gridcolor\":\"white\",\"gridwidth\":2,\"linecolor\":\"white\",\"showbackground\":true,\"ticks\":\"\",\"zerolinecolor\":\"white\"},\"zaxis\":{\"backgroundcolor\":\"#E5ECF6\",\"gridcolor\":\"white\",\"gridwidth\":2,\"linecolor\":\"white\",\"showbackground\":true,\"ticks\":\"\",\"zerolinecolor\":\"white\"}},\"shapedefaults\":{\"line\":{\"color\":\"#2a3f5f\"}},\"ternary\":{\"aaxis\":{\"gridcolor\":\"white\",\"linecolor\":\"white\",\"ticks\":\"\"},\"baxis\":{\"gridcolor\":\"white\",\"linecolor\":\"white\",\"ticks\":\"\"},\"bgcolor\":\"#E5ECF6\",\"caxis\":{\"gridcolor\":\"white\",\"linecolor\":\"white\",\"ticks\":\"\"}},\"title\":{\"x\":0.05},\"xaxis\":{\"automargin\":true,\"gridcolor\":\"white\",\"linecolor\":\"white\",\"ticks\":\"\",\"title\":{\"standoff\":15},\"zerolinecolor\":\"white\",\"zerolinewidth\":2},\"yaxis\":{\"automargin\":true,\"gridcolor\":\"white\",\"linecolor\":\"white\",\"ticks\":\"\",\"title\":{\"standoff\":15},\"zerolinecolor\":\"white\",\"zerolinewidth\":2}}},\"xaxis\":{\"anchor\":\"y\",\"domain\":[0.0,1.0],\"title\":{\"text\":\"genres\"}},\"yaxis\":{\"anchor\":\"x\",\"domain\":[0.0,1.0],\"title\":{\"text\":\"value\"}},\"legend\":{\"title\":{\"text\":\"variable\"},\"tracegroupgap\":0},\"margin\":{\"t\":60},\"barmode\":\"group\"},                        {\"responsive\": true}                    ).then(function(){\n",
              "                            \n",
              "var gd = document.getElementById('96a88e30-3144-45eb-9b33-9f51133bfc76');\n",
              "var x = new MutationObserver(function (mutations, observer) {{\n",
              "        var display = window.getComputedStyle(gd).display;\n",
              "        if (!display || display === 'none') {{\n",
              "            console.log([gd, 'removed!']);\n",
              "            Plotly.purge(gd);\n",
              "            observer.disconnect();\n",
              "        }}\n",
              "}});\n",
              "\n",
              "// Listen for the removal of the full notebook cells\n",
              "var notebookContainer = gd.closest('#notebook-container');\n",
              "if (notebookContainer) {{\n",
              "    x.observe(notebookContainer, {childList: true});\n",
              "}}\n",
              "\n",
              "// Listen for the clearing of the current output cell\n",
              "var outputEl = gd.closest('.output');\n",
              "if (outputEl) {{\n",
              "    x.observe(outputEl, {childList: true});\n",
              "}}\n",
              "\n",
              "                        })                };                            </script>        </div>\n",
              "</body>\n",
              "</html>"
            ]
          },
          "metadata": {}
        }
      ],
      "source": [
        "top10_genres = genre_data.nlargest(10, 'popularity')\n",
        "\n",
        "fig = px.bar(top10_genres, x='genres', y=['valence', 'energy', 'danceability', 'acousticness'], barmode='group')\n",
        "fig.show()"
      ]
    },
    {
      "cell_type": "code",
      "execution_count": 36,
      "metadata": {
        "id": "xjCMfEIDJIy2"
      },
      "outputs": [],
      "source": []
    },
    {
      "cell_type": "code",
      "execution_count": 36,
      "metadata": {
        "id": "cPi6Zi_WJIy2"
      },
      "outputs": [],
      "source": []
    },
    {
      "cell_type": "code",
      "execution_count": 37,
      "metadata": {
        "id": "Ji4xewfbJIy2"
      },
      "outputs": [],
      "source": [
        "from sklearn.cluster import KMeans\n",
        "from sklearn.preprocessing import StandardScaler\n",
        "from sklearn.pipeline import Pipeline\n",
        "\n",
        "cluster_pipeline = Pipeline([('scaler', StandardScaler()), ('kmeans', KMeans(n_clusters=10))])\n",
        "X = genre_data.select_dtypes(np.number)\n",
        "cluster_pipeline.fit(X)\n",
        "genre_data['cluster'] = cluster_pipeline.predict(X)"
      ]
    },
    {
      "cell_type": "code",
      "execution_count": null,
      "metadata": {
        "id": "KS_W0vC1JIy2",
        "outputId": "d9f9f3ea-85f1-4d81-cd6e-5a95d7a83805",
        "colab": {
          "base_uri": "https://localhost:8080/"
        }
      },
      "outputs": [
        {
          "output_type": "stream",
          "name": "stdout",
          "text": [
            "[t-SNE] Computing 91 nearest neighbors...\n",
            "[t-SNE] Indexed 2973 samples in 0.015s...\n",
            "[t-SNE] Computed neighbors for 2973 samples in 0.609s...\n",
            "[t-SNE] Computed conditional probabilities for sample 1000 / 2973\n",
            "[t-SNE] Computed conditional probabilities for sample 2000 / 2973\n",
            "[t-SNE] Computed conditional probabilities for sample 2973 / 2973\n",
            "[t-SNE] Mean sigma: 0.777516\n"
          ]
        }
      ],
      "source": [
        "# Visualizing the Clusters with t-SNE\n",
        "\n",
        "from sklearn.manifold import TSNE\n",
        "\n",
        "tsne_pipeline = Pipeline([('scaler', StandardScaler()), ('tsne', TSNE(n_components=2, verbose=1))])\n",
        "genre_embedding = tsne_pipeline.fit_transform(X)\n",
        "projection = pd.DataFrame(columns=['x', 'y'], data=genre_embedding)\n",
        "projection['genres'] = genre_data['genres']\n",
        "projection['cluster'] = genre_data['cluster']\n",
        "\n",
        "fig1 = px.scatter(\n",
        "    projection, x='x', y='y', color='cluster', hover_data=['x', 'y', 'genres'])\n",
        "fig1.show()"
      ]
    },
    {
      "cell_type": "markdown",
      "metadata": {
        "id": "3yFqGC6SJIy2"
      },
      "source": [
        "# Clustering Songs with K means"
      ]
    },
    {
      "cell_type": "code",
      "execution_count": null,
      "metadata": {
        "id": "3HdGMVDHJIy3"
      },
      "outputs": [],
      "source": [
        "song_cluster_pipeline = Pipeline([('scaler', StandardScaler()), \n",
        "                                  ('kmeans', KMeans(n_clusters=20, \n",
        "                                   verbose=False))\n",
        "                                 ], verbose=False)\n",
        "\n",
        "X = data.select_dtypes(np.number)\n",
        "number_cols = list(X.columns)\n",
        "song_cluster_pipeline.fit(X)\n",
        "song_cluster_labels = song_cluster_pipeline.predict(X)\n",
        "data['cluster_label'] = song_cluster_labels"
      ]
    },
    {
      "cell_type": "code",
      "execution_count": null,
      "metadata": {
        "id": "ahs3yLKqJIy3"
      },
      "outputs": [],
      "source": [
        "# Visualizing the Clusters with PCA\n",
        "\n",
        "from sklearn.decomposition import PCA\n",
        "\n",
        "pca_pipeline = Pipeline([('scaler', StandardScaler()), ('PCA', PCA(n_components=2))])\n",
        "song_embedding = pca_pipeline.fit_transform(X)\n",
        "projection = pd.DataFrame(columns=['x', 'y'], data=song_embedding)\n",
        "projection['title'] = data['name']\n",
        "projection['cluster'] = data['cluster_label']\n",
        "\n",
        "fig2 = px.scatter(\n",
        "    projection, x='x', y='y', color='cluster', hover_data=['x', 'y', 'title'])\n",
        "fig2.show()"
      ]
    },
    {
      "cell_type": "code",
      "execution_count": null,
      "metadata": {
        "id": "MkyLLL2QJIy3"
      },
      "outputs": [],
      "source": [
        "import dash\n",
        "from dash.dependencies import Input, Output\n",
        "import dash_core_components as dcc\n",
        "import dash_html_components as html\n",
        "\n",
        "import flask\n",
        "import pandas as pd\n",
        "import datetime as dt\n",
        "import plotly.graph_objects as go\n",
        "import os\n",
        "\n",
        "server = flask.Flask('app')\n",
        "server.secret_key = os.environ.get('secret_key', 'secret')\n",
        "\n",
        "app = dash.Dash('app', server=server)\n",
        "\n",
        "\n",
        "val = data['decade'].value_counts()\n",
        "count = go.Bar(x=val.index, y=val.values, name='Count')\n",
        "tr = go.Bar(x=top10_genres['genres'], y=top10_genres['valence'], name='Valence')\n",
        "tr1 = go.Bar(x=top10_genres['genres'], y=top10_genres['energy'], name='Energy')\n",
        "tr2 = go.Bar(x=top10_genres['genres'], y=top10_genres['danceability'], name='Danceability')\n",
        "tr3 = go.Bar(x=top10_genres['genres'], y=top10_genres['acousticness'], name='Acousticness')\n",
        "\n",
        "\n",
        "app.layout = html.Div(\n",
        "    children=[\n",
        "        html.Div([html.H1('Music Recommendation System')]),\n",
        "        \n",
        "            html.Div([\n",
        "            \n",
        "            dcc.Graph(figure={\n",
        "                'data': [count],\n",
        "                'layout':\n",
        "            go.Layout(title='Songs per Decade', barmode='stack')\n",
        "            })\n",
        "        ], className=\"CountBargraph\"),\n",
        "\n",
        "        html.Div([\n",
        "            \n",
        "            dcc.Graph(figure={\n",
        "                'data': [tr, tr1, tr2, tr3],\n",
        "                'layout':\n",
        "            go.Layout(title='Characterstics of Different Genres', barmode='stack')\n",
        "            })\n",
        "        ], className=\"CharBargraph\"),\n",
        "\n",
        "      \n",
        "        html.Div([\n",
        "            html.H2('Visualizing the Clusters with t-SNE'),\n",
        "            dcc.Graph(\n",
        "            id='Scatt1',\n",
        "            figure=fig1\n",
        "            )\n",
        "        ], className=\"ClusterGraph1\"),\n",
        "\n",
        "        html.Div([\n",
        "            html.H2('Visualizing the Clusters with PCA'),\n",
        "            dcc.Graph(\n",
        "            id='Scatt2',\n",
        "            figure=fig2\n",
        "            )\n",
        "        ], className=\"ClusterGraph2\")\n",
        "])\n",
        "\n",
        "\n",
        "\n",
        "if __name__ == '__main__':\n",
        "    app.run_server()"
      ]
    },
    {
      "cell_type": "markdown",
      "metadata": {
        "id": "7ncx15BjJIy3"
      },
      "source": [
        "# Build Recommendation System"
      ]
    },
    {
      "cell_type": "code",
      "execution_count": null,
      "metadata": {
        "id": "Rxq_1D1ZJIy4"
      },
      "outputs": [],
      "source": [
        "pip install spotipy"
      ]
    },
    {
      "cell_type": "code",
      "execution_count": null,
      "metadata": {
        "id": "biztR9_sJIy4"
      },
      "outputs": [],
      "source": [
        "os.environ['SPOTIPY_CLIENT_ID'] = \"f8098bf9d82f4a60a3709047294cd42b\"\n",
        "os.environ['SPOTIPY_CLIENT_SECRET'] = \"9b1f2ab8c46d42b09f33153fc0fa55e7\"\n",
        "#export SPOTIPY_CLIENT_ID='f8098bf9d82f4a60a3709047294cd42b'\n",
        "#export SPOTIPY_CLIENT_SECRET='9b1f2ab8c46d42b09f33153fc0fa55e7'"
      ]
    },
    {
      "cell_type": "code",
      "execution_count": null,
      "metadata": {
        "id": "2KTPPtvSJIy4"
      },
      "outputs": [],
      "source": [
        "import spotipy\n",
        "from spotipy.oauth2 import SpotifyClientCredentials\n",
        "from collections import defaultdict\n",
        "#SPOTIFY_CLIENT_ID = \"f8098bf9d82f4a60a3709047294cd42b\"\n",
        "#SPOTIFY_CLIENT_SECRET = \"9b1f2ab8c46d42b09f33153fc0fa55e7\"\n",
        "sp = spotipy.Spotify(auth_manager=SpotifyClientCredentials(client_id=\"f8098bf9d82f4a60a3709047294cd42b\",\n",
        "                                                           client_secret=\"9b1f2ab8c46d42b09f33153fc0fa55e7\"))\n",
        "\n",
        "\n",
        "def find_song(name, year):\n",
        "    song_data = defaultdict()\n",
        "    results = sp.search(q= 'track: {} year: {}'.format(name,year), limit=1)\n",
        "    if results['tracks']['items'] == []:\n",
        "        return None\n",
        "\n",
        "    results = results['tracks']['items'][0]\n",
        "    track_id = results['id']\n",
        "    audio_features = sp.audio_features(track_id)[0]\n",
        "\n",
        "    song_data['name'] = [name]\n",
        "    song_data['year'] = [year]\n",
        "    song_data['explicit'] = [int(results['explicit'])]\n",
        "    song_data['duration_ms'] = [results['duration_ms']]\n",
        "    song_data['popularity'] = [results['popularity']]\n",
        "\n",
        "    for key, value in audio_features.items():\n",
        "        song_data[key] = value\n",
        "\n",
        "    return pd.DataFrame(song_data)"
      ]
    },
    {
      "cell_type": "code",
      "execution_count": null,
      "metadata": {
        "id": "fowa9oizJIy4"
      },
      "outputs": [],
      "source": [
        "from collections import defaultdict\n",
        "from sklearn.metrics import euclidean_distances\n",
        "from scipy.spatial.distance import cdist\n",
        "import difflib\n",
        "\n",
        "number_cols = ['valence', 'year', 'acousticness', 'danceability', 'duration_ms', 'energy', 'explicit',\n",
        " 'instrumentalness', 'key', 'liveness', 'loudness', 'mode', 'popularity', 'speechiness', 'tempo']\n",
        "\n",
        "\n",
        "def get_song_data(song, spotify_data):\n",
        "    \n",
        "    try:\n",
        "        song_data = spotify_data[(spotify_data['name'] == song['name']) \n",
        "                                & (spotify_data['year'] == song['year'])].iloc[0]\n",
        "        return song_data\n",
        "    \n",
        "    except IndexError:\n",
        "        return find_song(song['name'], song['year'])\n",
        "        \n",
        "\n",
        "def get_mean_vector(song_list, spotify_data):\n",
        "    \n",
        "    song_vectors = []\n",
        "    \n",
        "    for song in song_list:\n",
        "        song_data = get_song_data(song, spotify_data)\n",
        "        if song_data is None:\n",
        "            print('Warning: {} does not exist in Spotify or in database'.format(song['name']))\n",
        "            continue\n",
        "        song_vector = song_data[number_cols].values\n",
        "        song_vectors.append(song_vector)  \n",
        "    \n",
        "    song_matrix = np.array(list(song_vectors))\n",
        "    return np.mean(song_matrix, axis=0)\n",
        "\n",
        "\n",
        "def flatten_dict_list(dict_list):\n",
        "    \n",
        "    flattened_dict = defaultdict()\n",
        "    for key in dict_list[0].keys():\n",
        "        flattened_dict[key] = []\n",
        "    \n",
        "    for dictionary in dict_list:\n",
        "        for key, value in dictionary.items():\n",
        "            flattened_dict[key].append(value)\n",
        "            \n",
        "    return flattened_dict\n",
        "\n",
        "\n",
        "def recommend_songs( song_list, spotify_data, n_songs=10):\n",
        "    \n",
        "    metadata_cols = ['name', 'year', 'artists']\n",
        "    song_dict = flatten_dict_list(song_list)\n",
        "    \n",
        "    song_center = get_mean_vector(song_list, spotify_data)\n",
        "    scaler = song_cluster_pipeline.steps[0][1]\n",
        "    scaled_data = scaler.transform(spotify_data[number_cols])\n",
        "    scaled_song_center = scaler.transform(song_center.reshape(1, -1))\n",
        "    distances = cdist(scaled_song_center, scaled_data, 'cosine')\n",
        "    index = list(np.argsort(distances)[:, :n_songs][0])\n",
        "    \n",
        "    rec_songs = spotify_data.iloc[index]\n",
        "    rec_songs = rec_songs[~rec_songs['name'].isin(song_dict['name'])]\n",
        "    return rec_songs[metadata_cols].to_dict(orient='records')\n",
        "\n"
      ]
    },
    {
      "cell_type": "code",
      "execution_count": null,
      "metadata": {
        "id": "cczQ0aMWJIy4"
      },
      "outputs": [],
      "source": [
        "recommend_songs([{'name': 'Come As You Are', 'year':1991},\n",
        "                {'name': 'Smells Like Teen Spirit', 'year': 1991},\n",
        "                {'name': 'Lithium', 'year': 1992},\n",
        "                {'name': 'All Apologies', 'year': 1993},\n",
        "                {'name': 'Stay Away', 'year': 1993}],  data)"
      ]
    },
    {
      "cell_type": "code",
      "execution_count": null,
      "metadata": {
        "id": "Q3H3q1STJIy4"
      },
      "outputs": [],
      "source": [
        "pip install flask"
      ]
    }
  ],
  "metadata": {
    "interpreter": {
      "hash": "c819c852b08a10f62700d325855675a384e1b6bbb57735b6ce5d522919ef42f7"
    },
    "kernelspec": {
      "display_name": "Python 3.10.1 64-bit",
      "language": "python",
      "name": "python3"
    },
    "language_info": {
      "codemirror_mode": {
        "name": "ipython",
        "version": 3
      },
      "file_extension": ".py",
      "mimetype": "text/x-python",
      "name": "python",
      "nbconvert_exporter": "python",
      "pygments_lexer": "ipython3",
      "version": "3.10.0"
    },
    "orig_nbformat": 4,
    "colab": {
      "provenance": []
    }
  },
  "nbformat": 4,
  "nbformat_minor": 0
}